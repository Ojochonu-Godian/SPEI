{
 "cells": [
  {
   "cell_type": "code",
   "execution_count": 1,
   "id": "9c1462f6",
   "metadata": {},
   "outputs": [],
   "source": [
    "#pip install xarray"
   ]
  },
  {
   "cell_type": "code",
   "execution_count": 1,
   "id": "a7aef32d",
   "metadata": {},
   "outputs": [],
   "source": [
    "import xarray as xr\n",
    "import pandas as pd\n",
    "import numpy as np\n",
    "import matplotlib.pyplot as plt"
   ]
  },
  {
   "cell_type": "code",
   "execution_count": 3,
   "id": "95cdabd1",
   "metadata": {},
   "outputs": [],
   "source": [
    "dset = xr.open_dataset(\"era5_tmax_daily_af_2-14E_4-14N.nc\")\n",
    "dset2 = xr.open_dataset(\"era5_tmin_daily_af_2-14E_4-14N.nc\")\n",
    "dset3 = xr.open_dataset(\"v2p0chirps_25_2-14E_4-14N.nc\")"
   ]
  },
  {
   "cell_type": "code",
   "execution_count": 4,
   "id": "7a29f662",
   "metadata": {},
   "outputs": [],
   "source": [
    "# You can convert it to a Pandas DataFrame like this\n",
    "df = dset.to_dataframe().reset_index()\n",
    "df2 = dset2.to_dataframe().reset_index()\n",
    "df3 = dset3.to_dataframe().reset_index()"
   ]
  },
  {
   "cell_type": "code",
   "execution_count": 5,
   "id": "7d825f8b",
   "metadata": {},
   "outputs": [],
   "source": [
    "start_date = pd.to_datetime('1993-01-01')\n",
    "end_date = pd.to_datetime('2023-10-31')\n",
    "\n",
    "# Filter data for the specified date range\n",
    "df = df[(df['time'] >= start_date) & (df['time'] <= end_date)]\n",
    "df2 = df2[(df2['time'] >= start_date) & (df2['time'] <= end_date)]\n",
    "df3 = df3[(df3['time'] >= start_date) & (df3['time'] <= end_date)]"
   ]
  },
  {
   "cell_type": "code",
   "execution_count": 6,
   "id": "bc339762",
   "metadata": {},
   "outputs": [
    {
     "data": {
      "text/html": [
       "<div>\n",
       "<style scoped>\n",
       "    .dataframe tbody tr th:only-of-type {\n",
       "        vertical-align: middle;\n",
       "    }\n",
       "\n",
       "    .dataframe tbody tr th {\n",
       "        vertical-align: top;\n",
       "    }\n",
       "\n",
       "    .dataframe thead th {\n",
       "        text-align: right;\n",
       "    }\n",
       "</style>\n",
       "<table border=\"1\" class=\"dataframe\">\n",
       "  <thead>\n",
       "    <tr style=\"text-align: right;\">\n",
       "      <th></th>\n",
       "      <th>time</th>\n",
       "      <th>lon</th>\n",
       "      <th>lat</th>\n",
       "      <th>tmax</th>\n",
       "    </tr>\n",
       "  </thead>\n",
       "  <tbody>\n",
       "    <tr>\n",
       "      <th>31553354</th>\n",
       "      <td>1993-01-01</td>\n",
       "      <td>2.0</td>\n",
       "      <td>14.00</td>\n",
       "      <td>308.063354</td>\n",
       "    </tr>\n",
       "    <tr>\n",
       "      <th>31553355</th>\n",
       "      <td>1993-01-01</td>\n",
       "      <td>2.0</td>\n",
       "      <td>13.75</td>\n",
       "      <td>308.153198</td>\n",
       "    </tr>\n",
       "    <tr>\n",
       "      <th>31553356</th>\n",
       "      <td>1993-01-01</td>\n",
       "      <td>2.0</td>\n",
       "      <td>13.50</td>\n",
       "      <td>308.330933</td>\n",
       "    </tr>\n",
       "    <tr>\n",
       "      <th>31553357</th>\n",
       "      <td>1993-01-01</td>\n",
       "      <td>2.0</td>\n",
       "      <td>13.25</td>\n",
       "      <td>308.522339</td>\n",
       "    </tr>\n",
       "    <tr>\n",
       "      <th>31553358</th>\n",
       "      <td>1993-01-01</td>\n",
       "      <td>2.0</td>\n",
       "      <td>13.00</td>\n",
       "      <td>308.686401</td>\n",
       "    </tr>\n",
       "  </tbody>\n",
       "</table>\n",
       "</div>"
      ],
      "text/plain": [
       "               time  lon    lat        tmax\n",
       "31553354 1993-01-01  2.0  14.00  308.063354\n",
       "31553355 1993-01-01  2.0  13.75  308.153198\n",
       "31553356 1993-01-01  2.0  13.50  308.330933\n",
       "31553357 1993-01-01  2.0  13.25  308.522339\n",
       "31553358 1993-01-01  2.0  13.00  308.686401"
      ]
     },
     "execution_count": 6,
     "metadata": {},
     "output_type": "execute_result"
    }
   ],
   "source": [
    "df.head()"
   ]
  },
  {
   "cell_type": "code",
   "execution_count": 7,
   "id": "9c6107a8",
   "metadata": {},
   "outputs": [
    {
     "data": {
      "text/plain": [
       "(22623349, 4)"
      ]
     },
     "execution_count": 7,
     "metadata": {},
     "output_type": "execute_result"
    }
   ],
   "source": [
    "df.shape"
   ]
  },
  {
   "cell_type": "code",
   "execution_count": 8,
   "id": "b7932684",
   "metadata": {},
   "outputs": [
    {
     "name": "stdout",
     "output_type": "stream",
     "text": [
      "<class 'pandas.core.frame.DataFrame'>\n",
      "Int64Index: 21561600 entries, 8415360 to 29976959\n",
      "Data columns (total 4 columns):\n",
      " #   Column  Dtype         \n",
      "---  ------  -----         \n",
      " 0   time    datetime64[ns]\n",
      " 1   lon     float64       \n",
      " 2   lat     float64       \n",
      " 3   precip  float32       \n",
      "dtypes: datetime64[ns](1), float32(1), float64(2)\n",
      "memory usage: 740.3 MB\n"
     ]
    }
   ],
   "source": [
    "df3.info()"
   ]
  },
  {
   "cell_type": "code",
   "execution_count": 9,
   "id": "6c235654",
   "metadata": {},
   "outputs": [
    {
     "data": {
      "text/html": [
       "<div>\n",
       "<style scoped>\n",
       "    .dataframe tbody tr th:only-of-type {\n",
       "        vertical-align: middle;\n",
       "    }\n",
       "\n",
       "    .dataframe tbody tr th {\n",
       "        vertical-align: top;\n",
       "    }\n",
       "\n",
       "    .dataframe thead th {\n",
       "        text-align: right;\n",
       "    }\n",
       "</style>\n",
       "<table border=\"1\" class=\"dataframe\">\n",
       "  <thead>\n",
       "    <tr style=\"text-align: right;\">\n",
       "      <th></th>\n",
       "      <th>time</th>\n",
       "      <th>lon</th>\n",
       "      <th>lat</th>\n",
       "      <th>tmin</th>\n",
       "    </tr>\n",
       "  </thead>\n",
       "  <tbody>\n",
       "    <tr>\n",
       "      <th>54176698</th>\n",
       "      <td>2023-10-31</td>\n",
       "      <td>14.0</td>\n",
       "      <td>5.00</td>\n",
       "      <td>294.294220</td>\n",
       "    </tr>\n",
       "    <tr>\n",
       "      <th>54176699</th>\n",
       "      <td>2023-10-31</td>\n",
       "      <td>14.0</td>\n",
       "      <td>4.75</td>\n",
       "      <td>294.796173</td>\n",
       "    </tr>\n",
       "    <tr>\n",
       "      <th>54176700</th>\n",
       "      <td>2023-10-31</td>\n",
       "      <td>14.0</td>\n",
       "      <td>4.50</td>\n",
       "      <td>295.025391</td>\n",
       "    </tr>\n",
       "    <tr>\n",
       "      <th>54176701</th>\n",
       "      <td>2023-10-31</td>\n",
       "      <td>14.0</td>\n",
       "      <td>4.25</td>\n",
       "      <td>294.937500</td>\n",
       "    </tr>\n",
       "    <tr>\n",
       "      <th>54176702</th>\n",
       "      <td>2023-10-31</td>\n",
       "      <td>14.0</td>\n",
       "      <td>4.00</td>\n",
       "      <td>294.601562</td>\n",
       "    </tr>\n",
       "  </tbody>\n",
       "</table>\n",
       "</div>"
      ],
      "text/plain": [
       "               time   lon   lat        tmin\n",
       "54176698 2023-10-31  14.0  5.00  294.294220\n",
       "54176699 2023-10-31  14.0  4.75  294.796173\n",
       "54176700 2023-10-31  14.0  4.50  295.025391\n",
       "54176701 2023-10-31  14.0  4.25  294.937500\n",
       "54176702 2023-10-31  14.0  4.00  294.601562"
      ]
     },
     "execution_count": 9,
     "metadata": {},
     "output_type": "execute_result"
    }
   ],
   "source": [
    "df2.tail()"
   ]
  },
  {
   "cell_type": "code",
   "execution_count": 10,
   "id": "1090ac6b",
   "metadata": {},
   "outputs": [],
   "source": [
    "df.to_csv('Forest_tmax.csv', index = False)\n",
    "df2.to_csv('Forest_tmin.csv', index = False)\n",
    "df3.to_csv('Forest_precip.csv', index = False)"
   ]
  },
  {
   "cell_type": "markdown",
   "id": "42e17828",
   "metadata": {},
   "source": [
    "# SAHEL"
   ]
  },
  {
   "cell_type": "code",
   "execution_count": 2,
   "id": "6a159c7b",
   "metadata": {},
   "outputs": [],
   "source": [
    "dset4 = xr.open_dataset(\"era5_tmax_daily_af_4-14E_10-14N.nc\")\n",
    "dset5 = xr.open_dataset(\"era5_tmin_daily_af_4-14E_10-14N.nc\")\n",
    "dset6 = xr.open_dataset(\"v2p0chirps_25_4-14E_10-14N.nc\")"
   ]
  },
  {
   "cell_type": "code",
   "execution_count": 3,
   "id": "169c0299",
   "metadata": {},
   "outputs": [],
   "source": [
    "df4 = dset4.to_dataframe().reset_index()\n",
    "df5 = dset5.to_dataframe().reset_index()\n",
    "df6 = dset6.to_dataframe().reset_index()"
   ]
  },
  {
   "cell_type": "code",
   "execution_count": 4,
   "id": "5f7daa68",
   "metadata": {},
   "outputs": [],
   "source": [
    "start_date = pd.to_datetime('1993-01-01')\n",
    "end_date = pd.to_datetime('2023-10-31')\n",
    "\n",
    "# Filter data for the specified date range\n",
    "df4 = df4[(df4['time'] >= start_date) & (df4['time'] <= end_date)]\n",
    "\n",
    "start_date = pd.to_datetime('1993-01-01')\n",
    "end_date = pd.to_datetime('2023-10-31')\n",
    "\n",
    "# Filter data for the specified date range\n",
    "df5 = df5[(df5['time'] >= start_date) & (df5['time'] <= end_date)]\n",
    "\n",
    "start_date = pd.to_datetime('1993-01-01')\n",
    "end_date = pd.to_datetime('2023-10-31')\n",
    "\n",
    "# Filter data for the specified date range\n",
    "df6 = df6[(df6['time'] >= start_date) & (df6['time'] <= end_date)]"
   ]
  },
  {
   "cell_type": "code",
   "execution_count": 5,
   "id": "6a98528b",
   "metadata": {},
   "outputs": [],
   "source": [
    "df4.to_csv('Sahel_tmax.csv', index = False)\n",
    "df5.to_csv('Sahel_tmin.csv', index = False)\n",
    "df6.to_csv('Sahel_precip.csv', index = False)"
   ]
  },
  {
   "cell_type": "markdown",
   "id": "39a0aed1",
   "metadata": {},
   "source": [
    "# SAVANNAH"
   ]
  },
  {
   "cell_type": "code",
   "execution_count": 2,
   "id": "2d96a11a",
   "metadata": {},
   "outputs": [],
   "source": [
    "dset7 = xr.open_dataset(\"era5_tmax_daily_af_8-32E_7-43N.nc\")\n",
    "dset8 = xr.open_dataset(\"era5_tmin_daily_af_8-32E_7-43N.nc\")\n",
    "dset9 = xr.open_dataset(\"v2p0chirps_25_8-32E_7-43N.nc\")"
   ]
  },
  {
   "cell_type": "code",
   "execution_count": 3,
   "id": "5ec6d4f6",
   "metadata": {},
   "outputs": [
    {
     "name": "stdout",
     "output_type": "stream",
     "text": [
      "<xarray.Dataset>\n",
      "Dimensions:  (time: 15583, lon: 96, lat: 144)\n",
      "Coordinates:\n",
      "  * time     (time) datetime64[ns] 1981-01-01 1981-01-02 ... 2023-08-31\n",
      "  * lon      (lon) float32 8.125 8.375 8.625 8.875 ... 31.12 31.38 31.62 31.88\n",
      "  * lat      (lat) float32 7.125 7.375 7.625 7.875 ... 42.12 42.38 42.62 42.88\n",
      "Data variables:\n",
      "    precip   (time, lat, lon) float32 ...\n",
      "Attributes: (12/30)\n",
      "    title:                      subset of CHIRPS Version 2.0\n",
      "    Conventions:                CF-1.0\n",
      "    source_field:               https://climexp.knmi.nl/select.cgi?field=chir...\n",
      "    cdi:                        Climate Data Interface version 2.0.6 (https:/...\n",
      "    institution:                KNMI Climate Explorer and Climate Hazards Gro...\n",
      "    version:                    Version 2.0\n",
      "    ...                         ...\n",
      "    geospatial_lon_resolution:  0.2\n",
      "    time_coverage_start:        1981-01-01\n",
      "    time_coverage_end:          2023-08-31\n",
      "    climexp_url:                https://climexp.knmi.nl/select.cgi?chirps_20_25\n",
      "    scripturl01:                http://climexp.knmi.nl/get_index.cgi?email=so...\n",
      "    history:                     2023-11-10 22:43:59 ./bin/get_index CHIRPSDa...\n"
     ]
    }
   ],
   "source": [
    "print(dset9)"
   ]
  },
  {
   "cell_type": "code",
   "execution_count": null,
   "id": "a255e2e6",
   "metadata": {},
   "outputs": [],
   "source": [
    "df7 = dset7.to_dataframe().reset_index()\n",
    "df8 = dset8.to_dataframe().reset_index()\n",
    "df9 = dset9.to_dataframe().reset_index()"
   ]
  },
  {
   "cell_type": "code",
   "execution_count": 5,
   "id": "d814c5d8",
   "metadata": {},
   "outputs": [],
   "source": [
    "start_date = pd.to_datetime('1993-01-01')\n",
    "end_date = pd.to_datetime('2023-08-31')\n",
    "\n",
    "# Filter data for the specified date range\n",
    "df7 = df7[(df7['time'] >= start_date) & (df7['time'] <= end_date)]\n",
    "\n",
    "# Filter data for the specified date range\n",
    "df8 = df8[(df8['time'] >= start_date) & (df8['time'] <= end_date)]\n",
    "\n",
    "# Filter data for the specified date range\n",
    "df9 = df9[(df9['time'] >= start_date) & (df9['time'] <= end_date)]"
   ]
  },
  {
   "cell_type": "code",
   "execution_count": null,
   "id": "57e254fb",
   "metadata": {},
   "outputs": [],
   "source": [
    "df7.to_csv('Savannahl_tmax.csv', index = False)\n",
    "df8.to_csv('Savannah_tmin.csv', index = False)\n",
    "df9.to_csv('Savannah_precip.csv', index = False)"
   ]
  },
  {
   "cell_type": "code",
   "execution_count": null,
   "id": "8b69d99a",
   "metadata": {},
   "outputs": [],
   "source": []
  },
  {
   "cell_type": "code",
   "execution_count": null,
   "id": "729e5696",
   "metadata": {},
   "outputs": [],
   "source": []
  }
 ],
 "metadata": {
  "kernelspec": {
   "display_name": "Python 3 (ipykernel)",
   "language": "python",
   "name": "python3"
  },
  "language_info": {
   "codemirror_mode": {
    "name": "ipython",
    "version": 3
   },
   "file_extension": ".py",
   "mimetype": "text/x-python",
   "name": "python",
   "nbconvert_exporter": "python",
   "pygments_lexer": "ipython3",
   "version": "3.9.12"
  }
 },
 "nbformat": 4,
 "nbformat_minor": 5
}
